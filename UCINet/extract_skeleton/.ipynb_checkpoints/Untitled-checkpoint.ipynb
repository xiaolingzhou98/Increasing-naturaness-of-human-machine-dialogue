{
 "cells": [
  {
   "cell_type": "code",
   "execution_count": 1,
   "metadata": {},
   "outputs": [],
   "source": [
    "import tensorflow as tf\n",
    "import numpy as np\n",
    "from tensorflow.python.ops import nn_ops"
   ]
  },
  {
   "cell_type": "code",
   "execution_count": 10,
   "metadata": {},
   "outputs": [
    {
     "name": "stdout",
     "output_type": "stream",
     "text": [
      "[[[1 0 0]\n",
      "  [0 1 0]\n",
      "  [0 0 1]\n",
      "  [1 0 0]\n",
      "  [0 1 0]]]\n"
     ]
    }
   ],
   "source": [
    "truths = tf.Variable( [[0, 1, 2, 0, 1]])\n",
    "end = tf.one_hot(truths, 3, 1, 0)\n",
    "with tf.Session() as sess:\n",
    "    init = tf.initialize_all_variables()\n",
    "    sess.run(init)\n",
    "    print(sess.run(end))"
   ]
  },
  {
   "cell_type": "code",
   "execution_count": 4,
   "metadata": {},
   "outputs": [],
   "source": [
    "a = np.arange(0, 60, 1,dtype=np.float32)# start at 0 count up by 2, stop before 30\n",
    "a = a.reshape(3,4,5)\n",
    "# b = np.ones([1,5])\n",
    "b = np.array([[1,1,1,1],[-1,-1,-1,-1],[0,1,0,0]])\n",
    "a = tf.Variable(a , dtype = tf.float32 )\n",
    "b = tf.Variable(b , dtype = tf.float32 )\n",
    "c = tf.tile(tf.expand_dims(b, axis=-1), [1, 1, 8])\n",
    "with tf.Session() as sess:\n",
    "    init = tf.initialize_all_variables()\n",
    "    sess.run(init)\n",
    "    e = sess.run([c])"
   ]
  },
  {
   "cell_type": "code",
   "execution_count": 2,
   "metadata": {},
   "outputs": [],
   "source": [
    "def generate_skeleton_representation(in_value, indicate_matrix):\n",
    "    # in_value: [batch_size, seq_length, feature_dim]\n",
    "    # indicate_matrix: [batchsize, seq_length]\n",
    "    batch_size = tf.shape(in_value)[0]\n",
    "    # seq_length = tf.shape(in_value)[1]\n",
    "    feature_dim = in_value.get_shape().as_list()[-1]\n",
    "    indicate_matrix = tf.tile(tf.expand_dims(indicate_matrix, axis=-1), [1, 1, feature_dim])\n",
    "\n",
    "    # 1: type -1:target 0:other\n",
    "    indicate_matrix_type = tf.maximum(indicate_matrix, tf.zeros_like(indicate_matrix, dtype=tf.float32))\n",
    "    indicate_matrix_target = -tf.minimum(indicate_matrix, tf.zeros_like(indicate_matrix, dtype=tf.float32))\n",
    "\n",
    "    type_repr = tf.reduce_sum(tf.multiply(in_value, indicate_matrix_type), axis=1)\n",
    "    target_repr = tf.reduce_sum(tf.multiply(in_value, indicate_matrix_target), axis=1)\n",
    "    type_repr = tf.reshape(type_repr, shape=[batch_size, feature_dim])\n",
    "    target_repr = tf.reshape(target_repr, shape=[batch_size, feature_dim])\n",
    "\n",
    "    w_type = tf.get_variable(\"fuse_w1\", shape=[feature_dim, feature_dim], dtype=tf.float32)\n",
    "    w_target = tf.get_variable(\"fuse_w2\", shape=[feature_dim, feature_dim], dtype=tf.float32)\n",
    "    b = tf.get_variable(\"fuse_b\", shape=[feature_dim], dtype=tf.float32)\n",
    "    return nn_ops.bias_add(tf.matmul(type_repr, w_type) + tf.matmul(target_repr, w_target), b)"
   ]
  },
  {
   "cell_type": "code",
   "execution_count": 7,
   "metadata": {},
   "outputs": [
    {
     "data": {
      "text/plain": [
       "(3, 4, 8)"
      ]
     },
     "execution_count": 7,
     "metadata": {},
     "output_type": "execute_result"
    }
   ],
   "source": [
    "e[0].shape"
   ]
  },
  {
   "cell_type": "code",
   "execution_count": 6,
   "metadata": {},
   "outputs": [
    {
     "name": "stdout",
     "output_type": "stream",
     "text": [
      "Help on function one_hot in module tensorflow.python.ops.array_ops:\n",
      "\n",
      "one_hot(indices, depth, on_value=None, off_value=None, axis=None, dtype=None, name=None)\n",
      "    Returns a one-hot tensor.\n",
      "    \n",
      "    The locations represented by indices in `indices` take value `on_value`,\n",
      "    while all other locations take value `off_value`.\n",
      "    \n",
      "    `on_value` and `off_value` must have matching data types. If `dtype` is also\n",
      "    provided, they must be the same data type as specified by `dtype`.\n",
      "    \n",
      "    If `on_value` is not provided, it will default to the value `1` with type\n",
      "    `dtype`\n",
      "    \n",
      "    If `off_value` is not provided, it will default to the value `0` with type\n",
      "    `dtype`\n",
      "    \n",
      "    If the input `indices` is rank `N`, the output will have rank `N+1`. The\n",
      "    new axis is created at dimension `axis` (default: the new axis is appended\n",
      "    at the end).\n",
      "    \n",
      "    If `indices` is a scalar the output shape will be a vector of length `depth`\n",
      "    \n",
      "    If `indices` is a vector of length `features`, the output shape will be:\n",
      "    \n",
      "    ```\n",
      "      features x depth if axis == -1\n",
      "      depth x features if axis == 0\n",
      "    ```\n",
      "    \n",
      "    If `indices` is a matrix (batch) with shape `[batch, features]`, the output\n",
      "    shape will be:\n",
      "    \n",
      "    ```\n",
      "      batch x features x depth if axis == -1\n",
      "      batch x depth x features if axis == 1\n",
      "      depth x batch x features if axis == 0\n",
      "    ```\n",
      "    \n",
      "    If `dtype` is not provided, it will attempt to assume the data type of\n",
      "    `on_value` or `off_value`, if one or both are passed in. If none of\n",
      "    `on_value`, `off_value`, or `dtype` are provided, `dtype` will default to the\n",
      "    value `tf.float32`.\n",
      "    \n",
      "    Note: If a non-numeric data type output is desired (`tf.string`, `tf.bool`,\n",
      "    etc.), both `on_value` and `off_value` _must_ be provided to `one_hot`.\n",
      "    \n",
      "    For example:\n",
      "    \n",
      "    ```python\n",
      "    indices = [0, 1, 2]\n",
      "    depth = 3\n",
      "    tf.one_hot(indices, depth)  # output: [3 x 3]\n",
      "    # [[1., 0., 0.],\n",
      "    #  [0., 1., 0.],\n",
      "    #  [0., 0., 1.]]\n",
      "    \n",
      "    indices = [0, 2, -1, 1]\n",
      "    depth = 3\n",
      "    tf.one_hot(indices, depth,\n",
      "               on_value=5.0, off_value=0.0,\n",
      "               axis=-1)  # output: [4 x 3]\n",
      "    # [[5.0, 0.0, 0.0],  # one_hot(0)\n",
      "    #  [0.0, 0.0, 5.0],  # one_hot(2)\n",
      "    #  [0.0, 0.0, 0.0],  # one_hot(-1)\n",
      "    #  [0.0, 5.0, 0.0]]  # one_hot(1)\n",
      "    \n",
      "    indices = [[0, 2], [1, -1]]\n",
      "    depth = 3\n",
      "    tf.one_hot(indices, depth,\n",
      "               on_value=1.0, off_value=0.0,\n",
      "               axis=-1)  # output: [2 x 2 x 3]\n",
      "    # [[[1.0, 0.0, 0.0],   # one_hot(0)\n",
      "    #   [0.0, 0.0, 1.0]],  # one_hot(2)\n",
      "    #  [[0.0, 1.0, 0.0],   # one_hot(1)\n",
      "    #   [0.0, 0.0, 0.0]]]  # one_hot(-1)\n",
      "    ```\n",
      "    \n",
      "    Args:\n",
      "      indices: A `Tensor` of indices.\n",
      "      depth: A scalar defining the depth of the one hot dimension.\n",
      "      on_value: A scalar defining the value to fill in output when `indices[j]\n",
      "        = i`. (default: 1)\n",
      "      off_value: A scalar defining the value to fill in output when `indices[j]\n",
      "        != i`. (default: 0)\n",
      "      axis: The axis to fill (default: -1, a new inner-most axis).\n",
      "      dtype: The data type of the output tensor.\n",
      "      name: A name for the operation (optional).\n",
      "    \n",
      "    Returns:\n",
      "      output: The one-hot tensor.\n",
      "    \n",
      "    Raises:\n",
      "      TypeError: If dtype of either `on_value` or `off_value` don't match `dtype`\n",
      "      TypeError: If dtype of `on_value` and `off_value` don't match one another\n",
      "\n"
     ]
    }
   ],
   "source": [
    "help(tf.one_hot)\n",
    "    "
   ]
  },
  {
   "cell_type": "code",
   "execution_count": 66,
   "metadata": {},
   "outputs": [
    {
     "name": "stdout",
     "output_type": "stream",
     "text": [
      "--\n",
      "12923\n",
      "{'question': '您会选择挑战性比较大，或是比较平淡的工作', 'target': '平淡', 'answer': '挑战性比较大的', 'label': 0}\n",
      "{'question': '当您的工作规划和公司的长远规划发生冲突时，您会选择妥协还是跳槽或是重新规划自己的工作生涯', 'target': '跳槽', 'answer': '干不下去就换', 'label': 1}\n",
      "6667\n",
      "5034\n"
     ]
    }
   ],
   "source": [
    "import os\n",
    "import pandas as pd\n",
    "\n",
    "def unique_list(list_):\n",
    "    assert isinstance(list_, list)\n",
    "    if list_ != []:\n",
    "        return list(set(list_))\n",
    "    return []\n",
    "\n",
    "def read_file(file_path):\n",
    "    \"\"\"\n",
    "    read train & test data from original excel file\n",
    "    :param file_path: original excel file path, str\n",
    "    :return samples: list of train & test samples in the form of dict, list[dict]\n",
    "    :return id2sample: dict of index to sample, dict\n",
    "    \"\"\"\n",
    "    print('--')\n",
    "    root_dir, file = os.path.split(file_path)\n",
    "    data_frame = pd.read_excel(file_path)\n",
    "    samples = [data_frame.iloc[index].to_dict() for index in range(len(data_frame))]\n",
    "    print(len(samples))\n",
    "    num = 0\n",
    "#     temp = []\n",
    "#     for sample in samples:\n",
    "#         if judge_have_qa_pair(temp, sample):\n",
    "#             a=1\n",
    "#         else:\n",
    "#             num+=1\n",
    "#             temp.append(sample)\n",
    "#     return temp\n",
    "#     print('---')\n",
    "    processed_samples = []\n",
    "    for sample in samples:\n",
    "        if str(sample['label']) == '1' and len(have_same_qa_pair(samples, sample)) >= 2 and len(set(have_same_qa_pair(samples,sample)))==1 :\n",
    "            sample.update({'target':'all'})\n",
    "            processed_samples.append(sample)\n",
    "        if str(sample['label']) == '1' and len(have_same_qa_pair(samples, sample)) >= 2 and '0' in have_same_qa_pair(samples,sample):\n",
    "            processed_samples.append(sample)\n",
    "        if str(sample['label']) == '2'and len(have_same_qa_pair(samples, sample)) >= 2 and len(set(have_same_qa_pair(samples,sample)))==1 :\n",
    "            sample.update({'target':'none'})\n",
    "            processed_samples.append(sample)\n",
    "        if len(have_same_qa_pair(samples, sample)) == 1:\n",
    "            print(sample)\n",
    "            processed_samples.append(sample)\n",
    "    print(len(processed_samples))\n",
    "    processed_samples_new = []\n",
    "    for sample in processed_samples:\n",
    "        if judge_have_qa_pair(processed_samples_new, sample) :\n",
    "            a = 1\n",
    "        else:\n",
    "            processed_samples_new.append(sample)        \n",
    "    print(len(processed_samples_new))\n",
    "    return processed_samples_new\n",
    "file_path = r'D:\\yl\\desktop\\temp_2.xlsx'\n",
    "samples = read_file(file_path)"
   ]
  },
  {
   "cell_type": "code",
   "execution_count": 64,
   "metadata": {},
   "outputs": [
    {
     "data": {
      "text/plain": [
       "6667"
      ]
     },
     "execution_count": 64,
     "metadata": {},
     "output_type": "execute_result"
    }
   ],
   "source": [
    "len(samples)"
   ]
  },
  {
   "cell_type": "code",
   "execution_count": 67,
   "metadata": {},
   "outputs": [],
   "source": [
    "with open(r'D:\\yl\\desktop\\temp.txt','w', encoding='utf-8') as outfile:\n",
    "    for sample in samples:\n",
    "        outfile.writelines('\\t'.join([sample['question'], sample['answer'], sample['target'],'\\n']))"
   ]
  },
  {
   "cell_type": "code",
   "execution_count": 21,
   "metadata": {},
   "outputs": [
    {
     "name": "stdout",
     "output_type": "stream",
     "text": [
      "--\n",
      "['我再想想', '我再考虑考虑', '不记得了', '不想回答', '不想回答这个问题', '没法回答你', '这个问题不好回答', '别问我', '我不清楚', '    我不知道', '这个问题有点难弄', '我不明白你的意思', '没在意过这个问题', '没留意这个问题', '我不关心', '给个提示', '我不想选', '这个问题有点难', '你想问啥', '    你想知道啥', '我怎么可能知道', '这个问题你应该问别人', '不太懂', '看情况', '具体情况具体分析', '看到底是什么吧', '不一定', '不知道', '不理解', '不明白', '    不了解', '看心情', '不好说', '不确定', '不记得了', '你问别人吧', '看看别人是怎么选的']\n"
     ]
    }
   ],
   "source": [
    "import os\n",
    "import pandas as pd\n",
    "import random\n",
    "\n",
    "def unique_list(list_):\n",
    "    assert isinstance(list_, list)\n",
    "    if list_ != []:\n",
    "        return list(set(list_))\n",
    "    return []\n",
    "\n",
    "def read_file(file_path):\n",
    "    \"\"\"\n",
    "    read train & test data from original excel file\n",
    "    :param file_path: original excel file path, str\n",
    "    :return samples: list of train & test samples in the form of dict, list[dict]\n",
    "    :return id2sample: dict of index to sample, dict\n",
    "    \"\"\"\n",
    "    print('--')\n",
    "    root_dir, file = os.path.split(file_path)\n",
    "    data_frame = pd.read_excel(file_path)\n",
    "    samples = [data_frame.iloc[index].to_dict() for index in range(len(data_frame))]\n",
    "    alternative_answer = '我再想想，我再考虑考虑，不记得了，不想回答，不想回答这个问题，没法回答你，这个问题不好回答，别问我，我不清楚，\\\n",
    "    我不知道，这个问题有点难弄，我不明白你的意思，没在意过这个问题，没留意这个问题，我不关心，给个提示，我不想选，这个问题有点难，你想问啥，\\\n",
    "    你想知道啥，我怎么可能知道，这个问题你应该问别人，不太懂，看情况，具体情况具体分析，看到底是什么吧，不一定，不知道，不理解，不明白，\\\n",
    "    不了解，看心情，不好说，不确定，不记得了，你问别人吧，看看别人是怎么选的'.split('，')\n",
    "    outfile = open(r'D:\\yl\\desktop\\temp.csv','w')\n",
    "    print(alternative_answer)\n",
    "    passed_questions = []\n",
    "    for sample in samples:        \n",
    "        if str(sample['问题类别']) == '1':\n",
    "            if sample['问题'] not in passed_questions:\n",
    "                for index in random.sample(range(len(alternative_answer)),4):\n",
    "                    index = int(index)\n",
    "                    answer = alternative_answer[index]\n",
    "                    outfile.writelines('\\t'.join([sample['所属领域'], str(sample['问题类别']), sample['问题'], answer,'none_1','\\n']))\n",
    "            passed_questions.append(sample['问题']) \n",
    "    outfile.close()\n",
    "file_path = r'D:\\yl\\desktop\\data_all.xlsx'\n",
    "samples = read_file(file_path)"
   ]
  },
  {
   "cell_type": "code",
   "execution_count": 10,
   "metadata": {},
   "outputs": [
    {
     "data": {
      "text/plain": [
       "list"
      ]
     },
     "execution_count": 10,
     "metadata": {},
     "output_type": "execute_result"
    }
   ],
   "source": [
    "a = random.sample(range(5),4)\n",
    "type(a)"
   ]
  },
  {
   "cell_type": "code",
   "execution_count": 53,
   "metadata": {},
   "outputs": [],
   "source": [
    "# def have_same_qa_pair(samples, cur_sample):\n",
    "#     num = 0\n",
    "#     for sample in samples:\n",
    "#         if sample['question'] == cur_sample['question'] and sample['answer'] == cur_sample['answer']:\n",
    "#             num += 1\n",
    "#     return num\n",
    "\n",
    "def have_same_qa_pair(samples, cur_sample):\n",
    "    temp = []\n",
    "    for sample in samples:\n",
    "        if sample['question'] == cur_sample['question'] and sample['answer'] == cur_sample['answer']:\n",
    "            temp.append(str(sample['label']))\n",
    "    return temp\n",
    "\n",
    "def judge_have_qa_pair(samples, cur_sample):\n",
    "    for sample in samples:\n",
    "        if sample['question'] == cur_sample['question'] and sample['answer'] == cur_sample['answer']:\n",
    "            return True\n",
    "    return False"
   ]
  },
  {
   "cell_type": "code",
   "execution_count": null,
   "metadata": {},
   "outputs": [],
   "source": [
    "@ run"
   ]
  }
 ],
 "metadata": {
  "kernelspec": {
   "display_name": "Python 3",
   "language": "python",
   "name": "python3"
  },
  "language_info": {
   "codemirror_mode": {
    "name": "ipython",
    "version": 3
   },
   "file_extension": ".py",
   "mimetype": "text/x-python",
   "name": "python",
   "nbconvert_exporter": "python",
   "pygments_lexer": "ipython3",
   "version": "3.6.5"
  }
 },
 "nbformat": 4,
 "nbformat_minor": 2
}
